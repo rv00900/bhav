{
 "cells": [
  {
   "cell_type": "code",
   "execution_count": 1,
   "metadata": {},
   "outputs": [
    {
     "name": "stdout",
     "output_type": "stream",
     "text": [
      "Downloading: https://www.bseindia.com/download/BhavCopy/Equity/EQ010124_CSV.ZIP\n",
      "Downloaded: https://www.bseindia.com/download/BhavCopy/Equity/EQ010124_CSV.ZIP\n",
      "Downloading: https://www.bseindia.com/download/BhavCopy/Equity/EQ020124_CSV.ZIP\n",
      "Downloaded: https://www.bseindia.com/download/BhavCopy/Equity/EQ020124_CSV.ZIP\n",
      "Downloading: https://www.bseindia.com/download/BhavCopy/Equity/EQ030124_CSV.ZIP\n",
      "Downloaded: https://www.bseindia.com/download/BhavCopy/Equity/EQ030124_CSV.ZIP\n",
      "Downloading: https://www.bseindia.com/download/BhavCopy/Equity/EQ040124_CSV.ZIP\n",
      "Downloaded: https://www.bseindia.com/download/BhavCopy/Equity/EQ040124_CSV.ZIP\n"
     ]
    },
    {
     "ename": "KeyboardInterrupt",
     "evalue": "",
     "output_type": "error",
     "traceback": [
      "\u001b[0;31m---------------------------------------------------------------------------\u001b[0m",
      "\u001b[0;31mKeyboardInterrupt\u001b[0m                         Traceback (most recent call last)",
      "\u001b[1;32m/workspaces/bhav/t1.ipynb Cell 1\u001b[0m line \u001b[0;36m2\n\u001b[1;32m     <a href='vscode-notebook-cell://codespaces%2Bzany-invention-wrvpqp64664j25q74/workspaces/bhav/t1.ipynb#W0sdnNjb2RlLXJlbW90ZQ%3D%3D?line=20'>21</a>\u001b[0m \u001b[39mexcept\u001b[39;00m subprocess\u001b[39m.\u001b[39mCalledProcessError \u001b[39mas\u001b[39;00m e:\n\u001b[1;32m     <a href='vscode-notebook-cell://codespaces%2Bzany-invention-wrvpqp64664j25q74/workspaces/bhav/t1.ipynb#W0sdnNjb2RlLXJlbW90ZQ%3D%3D?line=21'>22</a>\u001b[0m     \u001b[39mprint\u001b[39m(\u001b[39mf\u001b[39m\u001b[39m\"\u001b[39m\u001b[39mFailed to download \u001b[39m\u001b[39m{\u001b[39;00murl\u001b[39m}\u001b[39;00m\u001b[39m: \u001b[39m\u001b[39m{\u001b[39;00me\u001b[39m}\u001b[39;00m\u001b[39m\"\u001b[39m)\n\u001b[0;32m---> <a href='vscode-notebook-cell://codespaces%2Bzany-invention-wrvpqp64664j25q74/workspaces/bhav/t1.ipynb#W0sdnNjb2RlLXJlbW90ZQ%3D%3D?line=23'>24</a>\u001b[0m time\u001b[39m.\u001b[39;49msleep(\u001b[39m2\u001b[39;49m)  \u001b[39m# Sleep to avoid overloading the server\u001b[39;00m\n",
      "\u001b[0;31mKeyboardInterrupt\u001b[0m: "
     ]
    }
   ],
   "source": [
    "import subprocess\n",
    "import time\n",
    "\n",
    "y = 24\n",
    "\n",
    "for m in range(1, 10):\n",
    "    for i in range(1, 31):\n",
    "        if i < 10:\n",
    "            date_str = f\"0{i}{m:02}{y}\"\n",
    "        else:\n",
    "            date_str = f\"{i}{m:02}{y}\"\n",
    "        \n",
    "        url = f\"https://www.bseindia.com/download/BhavCopy/Equity/EQ{date_str}_CSV.ZIP\"\n",
    "        print(f\"Downloading: {url}\")\n",
    "        \n",
    "        try:\n",
    "\n",
    "            result = subprocess.run([\"wget\", \"-q\", \"-P\", \"./BhavCopy_Zips\", url], check=True)\n",
    "            print(f\"Downloaded: {url}\")\n",
    "        \n",
    "        except subprocess.CalledProcessError as e:\n",
    "            print(f\"Failed to download {url}: {e}\")\n",
    "        \n",
    "        time.sleep(2)  "
   ]
  }
 ],
 "metadata": {
  "language_info": {
   "name": "python"
  }
 },
 "nbformat": 4,
 "nbformat_minor": 2
}
